{
 "cells": [
  {
   "cell_type": "code",
   "execution_count": 7,
   "id": "6219dcab",
   "metadata": {},
   "outputs": [],
   "source": [
    "import pandas as pd\n",
    "from sklearn.model_selection import train_test_split\n",
    "from sklearn.preprocessing import StandardScaler, OneHotEncoder\n",
    "from sklearn.compose import ColumnTransformer\n",
    "from sklearn.metrics import classification_report, roc_auc_score\n",
    "from xgboost import XGBClassifier"
   ]
  },
  {
   "cell_type": "code",
   "execution_count": 9,
   "id": "5955f7b9",
   "metadata": {},
   "outputs": [],
   "source": [
    "data = pd.read_csv(\"C:/Users/JEET VERMA.LAPTOP-MQS3L3UE/Downloads/Fraud (2).csv\")"
   ]
  },
  {
   "cell_type": "code",
   "execution_count": 35,
   "id": "690da9bc",
   "metadata": {},
   "outputs": [],
   "source": [
    "# Step 2: Data Preprocessing\n",
    "# Assuming the target variable is named 'is_fraud'\n",
    "X = data.drop(['isFraud', 'nameOrig'], axis=1)\n",
    "y = data['isFraud']"
   ]
  },
  {
   "cell_type": "code",
   "execution_count": 36,
   "id": "cc66edd9",
   "metadata": {},
   "outputs": [],
   "source": [
    "# Handle missing data \n",
    "X.fillna(0, inplace=True)"
   ]
  },
  {
   "cell_type": "code",
   "execution_count": 37,
   "id": "9b1a106e",
   "metadata": {},
   "outputs": [],
   "source": [
    "# Handle categorical variables using one-hot encoding\n",
    "categorical_features = ['type']\n",
    "preprocessor = ColumnTransformer(transformers=[('encoder', OneHotEncoder(), categorical_features)],\n",
    "                                 remainder='passthrough')\n",
    "X = preprocessor.fit_transform(X)"
   ]
  },
  {
   "cell_type": "code",
   "execution_count": null,
   "id": "72e51ead",
   "metadata": {},
   "outputs": [],
   "source": [
    "# Split the dataset into calibration and validation sets\n",
    "X_train, X_val, y_train, y_val = train_test_split(X, y, test_size=0.2, random_state=42)"
   ]
  },
  {
   "cell_type": "code",
   "execution_count": null,
   "id": "95fbc62f",
   "metadata": {},
   "outputs": [],
   "source": [
    "# Step 4: Model Selection\n",
    "# In this example, we'll use XGBoost as the model\n",
    "model = XGBClassifier()"
   ]
  },
  {
   "cell_type": "code",
   "execution_count": null,
   "id": "30beff34",
   "metadata": {},
   "outputs": [],
   "source": [
    "# Normalize numerical features if necessary\n",
    "scaler = StandardScaler()\n",
    "X_train_scaled = scaler.fit_transform(X_train)\n",
    "X_val_scaled = scaler.transform(X_val)"
   ]
  },
  {
   "cell_type": "code",
   "execution_count": null,
   "id": "dac06f48",
   "metadata": {},
   "outputs": [],
   "source": [
    "# Train the model\n",
    "model.fit(X_train_scaled, y_train)"
   ]
  },
  {
   "cell_type": "code",
   "execution_count": null,
   "id": "ba8cb494",
   "metadata": {},
   "outputs": [],
   "source": [
    "y_pred = model.predict(X_val_scaled)"
   ]
  },
  {
   "cell_type": "code",
   "execution_count": null,
   "id": "f4548b1f",
   "metadata": {},
   "outputs": [],
   "source": [
    "# Evaluate the model's performance\n",
    "print(classification_report(y_val, y_pred))\n",
    "print(\"AUC-ROC score:\", roc_auc_score(y_val, y_pred))"
   ]
  },
  {
   "cell_type": "code",
   "execution_count": null,
   "id": "c57e4618",
   "metadata": {},
   "outputs": [],
   "source": [
    "# Analyze important features to gain insights into fraudulent transactions\n",
    "feature_importances = model.feature_importances_"
   ]
  },
  {
   "cell_type": "code",
   "execution_count": null,
   "id": "16fca099",
   "metadata": {},
   "outputs": [],
   "source": [
    "# Use the model for real-time predictions on new data\n",
    "new_data = pd.read_csv('new_data.csv')  # Load new data\n",
    "new_data.fillna(0, inplace=True)  # Handle missing values\n",
    "new_data = preprocessor.transform(new_data)  # Transform categorical variables using preprocessor\n",
    "new_data_scaled = scaler.transform(new_data)  # Scale the new data\n",
    "new_predictions = model.predict(new_data_scaled)  # Make predictions on new data"
   ]
  },
  {
   "cell_type": "raw",
   "id": "e2631220",
   "metadata": {},
   "source": [
    "1. Data cleaning including missing values, outliers and multi-collinearity.\n",
    "\n",
    "Data cleaning including missing values, outliers, and multicollinearity:\n",
    "\n",
    "Missing values: In the provided code, missing values are handled by filling them with zeros. Depending on the dataset and the nature of missing data, other approaches like imputation or removal of missing values can be considered.\n",
    "Outliers: Outliers can be detected and handled using techniques such as statistical methods (e.g., Z-score or IQR methods) or robust modeling approaches (e.g., using algorithms less sensitive to outliers). Outliers can be treated by either removing them, transforming the data, or using robust modeling techniques.\n",
    "Multicollinearity: Multicollinearity, which refers to high correlation between predictor variables, can be detected using correlation matrices or variance inflation factor (VIF) analysis. To address multicollinearity, variables with high correlation can be dropped or combined using dimensionality reduction techniques.\n",
    "\n",
    "2. Describe your fraud detection model in elaboration.\n",
    "\n",
    "Fraud detection model:\n",
    "\n",
    "The fraud detection model in the provided code is based on the XGBoost algorithm, which is an optimized implementation of gradient boosting.\n",
    "XGBoost is chosen for its ability to handle complex, non-linear relationships, and its strong performance in classification tasks.\n",
    "The model is trained on the calibrated data, where it learns to make accurate predictions by iteratively building an ensemble of weak decision trees and adjusting their weights based on the errors made in previous iterations.\n",
    "The model's hyperparameters are optimized through default settings, but further hyperparameter tuning can be performed for improved performance.\n",
    "\n",
    "3. How did you select variables to be included in the model?\n",
    "\n",
    "Variable selection:\n",
    "\n",
    "The variable selection process is not explicitly described in the provided code. However, common approaches for variable selection include domain knowledge, feature importance analysis from the model, correlation analysis, stepwise regression, or regularization techniques (e.g., LASSO or ridge regression).\n",
    "It is important to select variables that have a meaningful relationship with the target variable (fraudulent transactions) and provide valuable insights for prediction.\n",
    "\n",
    "4. Demonstrate the performance of the model by using best set of tools.\n",
    "\n",
    "Performance demonstration:\n",
    "\n",
    "The model's performance can be assessed using various evaluation metrics, such as accuracy, precision, recall, F1-score, and AUC-ROC.\n",
    "The provided code includes the calculation of classification metrics and the generation of a classification report, which gives a detailed summary of the model's performance.\n",
    "Additionally, visualizations like ROC curves, precision-recall curves, or confusion matrices can be used to assess the model's performance comprehensively.\n",
    "5. What are the key factors that predict fraudulent customer?\n",
    "\n",
    "Key factors predicting fraudulent customers:\n",
    "\n",
    "To determine the key factors predicting fraudulent customers, the feature importances learned by the XGBoost model can be analyzed.\n",
    "Important features can include transaction type, transaction amount, customer balances (oldbalanceOrg, newbalanceOrig, oldbalanceDest, newbalanceDest), or other relevant variables.\n",
    "These factors can capture patterns or characteristics associated with fraudulent behavior, such as unusually large transactions or abnormal account balances.\n",
    "\n",
    "6. Do these factors make sense? If yes, How? If not, How not?\n",
    "\n",
    "Interpretation of factors:\n",
    "\n",
    "The factors identified by the model can make sense depending on the context and domain knowledge.\n",
    "Unusual transaction types, high transaction amounts, or significant changes in account balances could be indicative of potential fraudulent activities.\n",
    "However, it is essential to further validate and interpret these factors in the specific context of the financial company and its business processes.\n",
    "\n",
    "7. What kind of prevention should be adopted while company update its infrastructure?\n",
    "\n",
    "Prevention while updating infrastructure:\n",
    "\n",
    "While updating the infrastructure, several prevention measures can be adopted:\n",
    "Strengthening authentication and authorization mechanisms to prevent unauthorized access.\n",
    "Implementing real-time monitoring systems to detect and flag suspicious transactions.\n",
    "Enhancing data security and encryption protocols to protect customer information.\n",
    "Regularly updating fraud detection algorithms and models to stay ahead of emerging fraud techniques.\n",
    "Conducting thorough risk assessments and implementing robust internal controls and audit mechanisms.\n",
    "\n",
    "8. Assuming these actions have been implemented, how would you determine if they work?\n",
    "\n",
    "Determining the effectiveness of prevention actions:\n",
    "\n",
    "To determine if the prevention actions are effective, several evaluation methods can be employed:\n",
    "Monitoring key metrics related to fraud detection and prevention, such as the number of flagged transactions, false positive rates, or reduction in financial losses due to fraud.\n",
    "Comparing the performance of the updated system with the previous system to identify improvements in fraud detection and prevention.\n",
    "Conducting regular audits and assessments to evaluate the effectiveness of implemented prevention measures.\n",
    "\n"
   ]
  },
  {
   "cell_type": "markdown",
   "id": "1bc0dc00",
   "metadata": {},
   "source": [
    "# Jeet Verma"
   ]
  },
  {
   "cell_type": "code",
   "execution_count": null,
   "id": "379a597b",
   "metadata": {},
   "outputs": [],
   "source": [
    " \n",
    "    "
   ]
  }
 ],
 "metadata": {
  "kernelspec": {
   "display_name": "Python 3 (ipykernel)",
   "language": "python",
   "name": "python3"
  },
  "language_info": {
   "codemirror_mode": {
    "name": "ipython",
    "version": 3
   },
   "file_extension": ".py",
   "mimetype": "text/x-python",
   "name": "python",
   "nbconvert_exporter": "python",
   "pygments_lexer": "ipython3",
   "version": "3.11.3"
  }
 },
 "nbformat": 4,
 "nbformat_minor": 5
}
